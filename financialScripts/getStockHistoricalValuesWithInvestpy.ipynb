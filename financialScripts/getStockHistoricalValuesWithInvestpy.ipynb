{
 "cells": [
  {
   "cell_type": "markdown",
   "metadata": {},
   "source": [
    "##### Installing libraries"
   ]
  },
  {
   "cell_type": "code",
   "execution_count": 1,
   "metadata": {
    "collapsed": true
   },
   "outputs": [
    {
     "name": "stdout",
     "output_type": "stream",
     "text": [
      "Requirement already satisfied: Investpy in /home/iazzari/miniconda3/envs/investment_scripts/lib/python3.7/site-packages (0.9.14)\n",
      "Requirement already satisfied: requests>=2.22.0 in /home/iazzari/miniconda3/envs/investment_scripts/lib/python3.7/site-packages (from Investpy) (2.24.0)\n",
      "Requirement already satisfied: setuptools>=41.2.0 in /home/iazzari/miniconda3/envs/investment_scripts/lib/python3.7/site-packages (from Investpy) (47.3.1)\n",
      "Requirement already satisfied: lxml>=4.4.1 in /home/iazzari/miniconda3/envs/investment_scripts/lib/python3.7/site-packages (from Investpy) (4.5.2)\n",
      "Requirement already satisfied: pandas>=0.25.1 in /home/iazzari/miniconda3/envs/investment_scripts/lib/python3.7/site-packages (from Investpy) (1.0.5)\n",
      "Requirement already satisfied: numpy>=1.17.2 in /home/iazzari/miniconda3/envs/investment_scripts/lib/python3.7/site-packages (from Investpy) (1.19.0)\n",
      "Requirement already satisfied: Unidecode>=1.1.1 in /home/iazzari/miniconda3/envs/investment_scripts/lib/python3.7/site-packages (from Investpy) (1.1.1)\n",
      "Requirement already satisfied: certifi>=2017.4.17 in /home/iazzari/miniconda3/envs/investment_scripts/lib/python3.7/site-packages (from requests>=2.22.0->Investpy) (2020.6.20)\n",
      "Requirement already satisfied: idna<3,>=2.5 in /home/iazzari/miniconda3/envs/investment_scripts/lib/python3.7/site-packages (from requests>=2.22.0->Investpy) (2.9)\n",
      "Requirement already satisfied: urllib3!=1.25.0,!=1.25.1,<1.26,>=1.21.1 in /home/iazzari/miniconda3/envs/investment_scripts/lib/python3.7/site-packages (from requests>=2.22.0->Investpy) (1.25.9)\n",
      "Requirement already satisfied: chardet<4,>=3.0.2 in /home/iazzari/miniconda3/envs/investment_scripts/lib/python3.7/site-packages (from requests>=2.22.0->Investpy) (3.0.4)\n",
      "Requirement already satisfied: pytz>=2017.2 in /home/iazzari/miniconda3/envs/investment_scripts/lib/python3.7/site-packages (from pandas>=0.25.1->Investpy) (2020.1)\n",
      "Requirement already satisfied: python-dateutil>=2.6.1 in /home/iazzari/.local/lib/python3.7/site-packages (from pandas>=0.25.1->Investpy) (2.8.1)\n",
      "Requirement already satisfied: six>=1.5 in /home/iazzari/miniconda3/envs/investment_scripts/lib/python3.7/site-packages (from python-dateutil>=2.6.1->pandas>=0.25.1->Investpy) (1.15.0)\n",
      "\u001b[33mWARNING: You are using pip version 20.1.1; however, version 20.2.3 is available.\n",
      "You should consider upgrading via the '/home/iazzari/miniconda3/envs/investment_scripts/bin/python -m pip install --upgrade pip' command.\u001b[0m\n"
     ]
    }
   ],
   "source": [
    "!pip install Investpy"
   ]
  },
  {
   "cell_type": "markdown",
   "metadata": {},
   "source": [
    "##### Calling libraries\n",
    "\n",
    "import investpy\n",
    "\n",
    "##### Code\n",
    "\n",
    "#Functions\n",
    "\n",
    "def get_historical_cotation(stock, country, from_date, to_date):\n",
    "    df = investpy.get_stock_historical_data(stock,\n",
    "                                            country,\n",
    "                                            from_date,\n",
    "                                            to_date\n",
    "                                           ).reset_index()\n",
    "    df = df[['Date', 'Close']]\n",
    "\n",
    "    df = df.rename(columns={\"Date\":\"data\",\n",
    "              \"Close\": \"valor\"})\n",
    "\n",
    "    df['ticker'] = stock\n",
    "\n",
    "    df = df[[ 'data', 'ticker', 'valor']]\n",
    "    \n",
    "    return df\n",
    "    \n",
    "\n",
    "df = get_historical_cotation('BRML3', \"BRAZIL\", '20/01/2020', '20/09/2020')\n",
    "\n",
    "# df"
   ]
  },
  {
   "cell_type": "code",
   "execution_count": null,
   "metadata": {},
   "outputs": [],
   "source": []
  }
 ],
 "metadata": {
  "kernelspec": {
   "display_name": "Python 3",
   "language": "python",
   "name": "python3"
  },
  "language_info": {
   "codemirror_mode": {
    "name": "ipython",
    "version": 3
   },
   "file_extension": ".py",
   "mimetype": "text/x-python",
   "name": "python",
   "nbconvert_exporter": "python",
   "pygments_lexer": "ipython3",
   "version": "3.7.7"
  }
 },
 "nbformat": 4,
 "nbformat_minor": 4
}
