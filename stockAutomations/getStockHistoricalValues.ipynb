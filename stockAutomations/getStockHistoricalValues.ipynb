{
 "cells": [
  {
   "cell_type": "markdown",
   "metadata": {},
   "source": [
    "##### Installing libraries"
   ]
  },
  {
   "cell_type": "code",
   "execution_count": null,
   "metadata": {},
   "outputs": [],
   "source": []
  },
  {
   "cell_type": "markdown",
   "metadata": {},
   "source": [
    "##### Calling libraries"
   ]
  },
  {
   "cell_type": "code",
   "execution_count": null,
   "metadata": {},
   "outputs": [],
   "source": []
  },
  {
   "cell_type": "markdown",
   "metadata": {},
   "source": [
    "##### Code"
   ]
  },
  {
   "cell_type": "code",
   "execution_count": null,
   "metadata": {},
   "outputs": [],
   "source": [
    "pathToChromedriver = '/home/iazzari/repositorios/scripts/scripts_investimento/chromedriver'\n",
    "DRIVER = webdriver.Chrome(pathToChromedriver)\n",
    "\n",
    "def get_historic_values(ticker, df_historical_values):\n",
    "    \n",
    "    #entrando no site com o ticker q eu vou pegar os dados\n",
    "    DRIVER.get('https://br.investing.com/search/?q={}&tab=quotes'.format(ticker))\n",
    "    sleep(5)\n",
    "\n",
    "\n",
    "    try:\n",
    "        closePopup = DRIVER.find_element_by_class_name('popupCloseIcon largeBannerCloser')\n",
    "        closePopup.click()\n",
    "    except:\n",
    "        pass\n",
    "\n",
    "    #pegando novo link que chega ate os dados historicos\n",
    "    continue_link = DRIVER.find_element_by_xpath('//*[@id=\"fullColumn\"]/div/div[3]/div[3]/div/a')\n",
    "    next_link = continue_link.get_attribute('href')\n",
    "\n",
    "    DRIVER.get(next_link + '-historical-data')\n",
    "\n",
    "    sleep(5)\n",
    "\n",
    "\n",
    "    try:\n",
    "        close_popup = DRIVER.find_element_by_class_name(\"popupCloseIcon largeBannerCloser\")\n",
    "        close_popup.click()\n",
    "\n",
    "    except:\n",
    "        pass\n",
    "\n",
    "\n",
    "    try:\n",
    "        date_input = DRIVER.find_element_by_id(\"widgetFieldDateRange\")\n",
    "        DRIVER.execute_script(\"arguments[0].click();\", date_input)\n",
    "\n",
    "\n",
    "    except:\n",
    "        close_popup = DRIVER.find_element_by_class_name(\"popupCloseIcon largeBannerCloser\")\n",
    "        close_popup.click()\n",
    "        date_input = DRIVER.find_element_by_id(\"widgetFieldDateRange\")\n",
    "        date_input.click()\n",
    "\n",
    "\n",
    "    start_date_input = DRIVER.find_element_by_id(\"startDate\")\n",
    "\n",
    "    start_date_input.clear()\n",
    "    start_date_input.send_keys(start_date)\n",
    "\n",
    "    end_date_input = DRIVER.find_element_by_id(\"endDate\")\n",
    "\n",
    "    end_date_input.clear()\n",
    "    end_date_input.send_keys(end_date)\n",
    "\n",
    "    aplicar_button = DRIVER.find_element_by_id(\"applyBtn\")\n",
    "    aplicar_button.send_keys(Keys.ENTER)\n",
    "\n",
    "\n",
    "    #nome das colunas do dataframe\n",
    "    rows_headers = ['Data', 'Ultimo']\n",
    "    \n",
    "    sleep(2)\n",
    "    \n",
    "    table_id = DRIVER.find_element_by_id(\"curr_table\")\n",
    "\n",
    "\n",
    "    rows_table = table_id.find_element_by_tag_name(\"tbody\")\n",
    "    rows_table = rows_table.text.replace('R$','').replace('%','').replace('%','').replace('.','').replace(',','.').split('\\n')\n",
    "\n",
    "    row_content = []\n",
    "\n",
    "    #pegando por dentro da linha e iterando nas futuras colunas\n",
    "    for row in rows_table:\n",
    "        values = row.split(' ')\n",
    "        values[0] = datetime.datetime.strptime(values[0], '%d%m%Y').strftime('%d.%m.%Y')\n",
    "\n",
    "        row_content.append(values[:2])\n",
    "\n",
    "\n",
    "\n",
    "    df = pd.DataFrame(row_content, columns = rows_headers)\n",
    "\n",
    "    df['Ticker'] = ticker\n",
    "\n",
    "    df = df[['Ticker', 'Data', 'Ultimo']]\n",
    "    \n",
    "    \n",
    "    \n",
    "    return pd.concat([df_historical_values, df])"
   ]
  }
 ],
 "metadata": {
  "kernelspec": {
   "display_name": "Python 3",
   "language": "python",
   "name": "python3"
  },
  "language_info": {
   "codemirror_mode": {
    "name": "ipython",
    "version": 3
   },
   "file_extension": ".py",
   "mimetype": "text/x-python",
   "name": "python",
   "nbconvert_exporter": "python",
   "pygments_lexer": "ipython3",
   "version": "3.7.7"
  }
 },
 "nbformat": 4,
 "nbformat_minor": 4
}
