{
 "cells": [
  {
   "cell_type": "markdown",
   "metadata": {},
   "source": [
    "##### Importing libraries"
   ]
  },
  {
   "cell_type": "code",
   "execution_count": 1,
   "metadata": {
    "collapsed": true
   },
   "outputs": [
    {
     "ename": "SyntaxError",
     "evalue": "invalid syntax (<ipython-input-1-9ce4e8e01a0e>, line 1)",
     "output_type": "error",
     "traceback": [
      "\u001b[0;36m  File \u001b[0;32m\"<ipython-input-1-9ce4e8e01a0e>\"\u001b[0;36m, line \u001b[0;32m1\u001b[0m\n\u001b[0;31m    pip install gspread\u001b[0m\n\u001b[0m              ^\u001b[0m\n\u001b[0;31mSyntaxError\u001b[0m\u001b[0;31m:\u001b[0m invalid syntax\n"
     ]
    }
   ],
   "source": [
    "!pip install gspread\n",
    "!pip install oauth2client\n",
    "!pip install pandas\n",
    "!pip install time\n",
    "!pip install os-sys\n",
    "!pip install datetime\n",
    "!pip install selenium"
   ]
  },
  {
   "cell_type": "markdown",
   "metadata": {},
   "source": [
    "##### Calling libraries"
   ]
  },
  {
   "cell_type": "code",
   "execution_count": 3,
   "metadata": {},
   "outputs": [],
   "source": [
    "from datetime import datetime\n",
    "import gspread\n",
    "from oauth2client.service_account import ServiceAccountCredentials\n",
    "import pandas as pd\n",
    "from time import sleep\n",
    "import os\n",
    "from datetime import date\n",
    "from selenium.webdriver.common.keys import Keys\n",
    "from selenium import webdriver\n",
    "from datetime import time\n",
    "# import re"
   ]
  },
  {
   "cell_type": "markdown",
   "metadata": {},
   "source": [
    "##### Code with functions"
   ]
  },
  {
   "cell_type": "code",
   "execution_count": null,
   "metadata": {},
   "outputs": [],
   "source": [
    "def get_sheet_credentials(sheet_name):\n",
    "    creds = ServiceAccountCredentials.from_json_keyfile_name('<path to json credential>', SCOPE)\n",
    "    client = gspread.authorize(creds)\n",
    "    sheet = client.open_by_key('1MdwfFFObicVn9KXEJHgtFL40xgMoWxs-LNQAxxzY4bw').worksheet(sheet_name)\n",
    "    return sheet\n",
    "\n",
    "def numberToLetters(q):\n",
    "    q = q - 1\n",
    "    result = ''\n",
    "    while q >= 0:\n",
    "        remain = q % 26\n",
    "        result = chr(remain+65) + result;\n",
    "        q = q//26 - 1\n",
    "    return result\n",
    "\n",
    "\n",
    "def insertSpreadsheet(sheet, df):\n",
    "\n",
    "    columns = df.columns.values.tolist()\n",
    "    # selection of the range that will be updated\n",
    "    cell_list = sheet.range('A1:'+numberToLetters(len(columns))+'1')\n",
    "    # modifying the values in the range\n",
    "    for cell in cell_list:\n",
    "        val = columns[cell.col-1]\n",
    "        if type(val) is str:\n",
    "            val = val\n",
    "        cell.value = val\n",
    "    # update in batch\n",
    "    sheet.update_cells(cell_list)\n",
    "\n",
    "    ############## VALUES ##############\n",
    "    # number of lines and columns\n",
    "    num_lines, num_columns = df.shape\n",
    "    # selection of the range that will be updated\n",
    "    cell_list = sheet.range('A2:'+ numberToLetters(num_columns)+str(num_lines+201))\n",
    "    # modifying the values in the range\n",
    "    for cell in cell_list:\n",
    "        try:\n",
    "            val = df.iloc[cell.row-2,cell.col-1]\n",
    "            if type(val) is str:\n",
    "                val = val\n",
    "\n",
    "        except:\n",
    "            val = \"\"\n",
    "        cell.value = val\n",
    "    # update in batch\n",
    "    sheet.update_cells(cell_list)\n",
    "    \n",
    "def clearSpreadsheet(sheet, n_lin, n_col):\n",
    "    # selection of the range that will be updated\n",
    "    cell_list = sheet.range('A1:'+numberToLetters(n_col)+str(n_lin))\n",
    "    # modifying the values in the range\n",
    "    for cell in cell_list:\n",
    "        val=\"\"\n",
    "        cell.value = val\n",
    "    # update in batch\n",
    "    sheet.update_cells(cell_list)\n",
    "\n",
    "def enter_in_website():\n",
    "    DRIVER.get(\"https://www.fundsexplorer.com.br\")\n",
    "    sleep(5)\n",
    "    DRIVER.find_element_by_xpath(\"//*[@id='btn-signin']\").send_keys(Keys.ENTER)\n",
    "\n",
    "\n",
    "    sleep(5)\n",
    "    DRIVER.find_element_by_id(\"email-signin\").send_keys(Keys.ENTER)\n",
    "    DRIVER.find_element_by_id(\"email-signin\").send_keys(USERNAME)\n",
    "    sleep(5)\n",
    "    DRIVER.find_element_by_id(\"password-signin\").send_keys(PASSWORD)\n",
    "    sleep(5)\n",
    "    DRIVER.find_element_by_id(\"signin-user\").send_keys(Keys.ENTER)\n",
    "\n",
    "    \n",
    "def get_df_values(tupla, df_final):\n",
    "    variavel = tupla[0]\n",
    "    link = tupla[1]\n",
    "    \n",
    "    \n",
    "    DRIVER.get(link)\n",
    "    table_id = DRIVER.find_element_by_tag_name(\"table\")\n",
    "    sleep(20)\n",
    "    rows_headers = table_id.find_element_by_tag_name(\"tr\")\n",
    "\n",
    "\n",
    "    lista_headers = []\n",
    "    lista_values = []\n",
    "\n",
    "    for words in rows_headers.text.replace('RANKING ', '').split('\\n'):\n",
    "        lista_headers.append(words)\n",
    "\n",
    "    for words in lista_headers:\n",
    "        lista_values = words.split('TICKER')\n",
    "\n",
    "\n",
    "    lista_values[0] = 'TICKER'\n",
    "    lista_values[1] = lista_values[1].lstrip().rstrip()\n",
    "    columns = lista_values\n",
    "\n",
    "\n",
    "    rows_table = table_id.find_element_by_tag_name(\"tbody\")\n",
    "    rows_table = rows_table.text.replace('R$','').replace(' m²','').replace('m²','').replace('%','').replace('%','').replace('.','').replace(',','.')\n",
    "\n",
    "    lista_rows = []\n",
    "    lista_values = []\n",
    "\n",
    "\n",
    "    for words in rows_table.split('\\n'):\n",
    "        first_4_digits = ''.join([i for i in words[:4] if not i.isdigit()])\n",
    "        complete = first_4_digits + words[4:]\n",
    "        tupla_row = [complete[:8].lstrip().rstrip(), complete[8:].lstrip().rstrip()]\n",
    "        lista_rows.append(tupla_row)\n",
    "\n",
    "    df = pd.DataFrame(lista_rows, columns = columns)\n",
    "\n",
    "\n",
    "    df.reset_index(drop=True)\n",
    "    \n",
    "    \n",
    "    if len(df_final.index) > 0:\n",
    "        df_anterior = df_final\n",
    "        df_final = pd.merge(df_anterior, df, how='left', on='TICKER')\n",
    "        return df_final\n",
    "    \n",
    "    else:\n",
    "        return df"
   ]
  },
  {
   "cell_type": "markdown",
   "metadata": {},
   "source": [
    "##### Calling the functions"
   ]
  },
  {
   "cell_type": "code",
   "execution_count": 4,
   "metadata": {
    "collapsed": true
   },
   "outputs": [
    {
     "ename": "KeyboardInterrupt",
     "evalue": "",
     "output_type": "error",
     "traceback": [
      "\u001b[0;31m---------------------------------------------------------------------------\u001b[0m",
      "\u001b[0;31mKeyboardInterrupt\u001b[0m                         Traceback (most recent call last)",
      "\u001b[0;32m<ipython-input-4-eb21528afc0d>\u001b[0m in \u001b[0;36m<module>\u001b[0;34m\u001b[0m\n\u001b[1;32m     82\u001b[0m     \u001b[0mDRIVER\u001b[0m\u001b[0;34m.\u001b[0m\u001b[0mfind_element_by_id\u001b[0m\u001b[0;34m(\u001b[0m\u001b[0;34m\"signin-user\"\u001b[0m\u001b[0;34m)\u001b[0m\u001b[0;34m.\u001b[0m\u001b[0msend_keys\u001b[0m\u001b[0;34m(\u001b[0m\u001b[0mKeys\u001b[0m\u001b[0;34m.\u001b[0m\u001b[0mENTER\u001b[0m\u001b[0;34m)\u001b[0m\u001b[0;34m\u001b[0m\u001b[0;34m\u001b[0m\u001b[0m\n\u001b[1;32m     83\u001b[0m \u001b[0;34m\u001b[0m\u001b[0m\n\u001b[0;32m---> 84\u001b[0;31m \u001b[0menter_in_website\u001b[0m\u001b[0;34m(\u001b[0m\u001b[0;34m)\u001b[0m\u001b[0;34m\u001b[0m\u001b[0;34m\u001b[0m\u001b[0m\n\u001b[0m\u001b[1;32m     85\u001b[0m \u001b[0msleep\u001b[0m\u001b[0;34m(\u001b[0m\u001b[0;36m5\u001b[0m\u001b[0;34m)\u001b[0m\u001b[0;34m\u001b[0m\u001b[0;34m\u001b[0m\u001b[0m\n\u001b[1;32m     86\u001b[0m \u001b[0;34m\u001b[0m\u001b[0m\n",
      "\u001b[0;32m<ipython-input-4-eb21528afc0d>\u001b[0m in \u001b[0;36menter_in_website\u001b[0;34m()\u001b[0m\n\u001b[1;32m     70\u001b[0m \u001b[0;32mdef\u001b[0m \u001b[0menter_in_website\u001b[0m\u001b[0;34m(\u001b[0m\u001b[0;34m)\u001b[0m\u001b[0;34m:\u001b[0m\u001b[0;34m\u001b[0m\u001b[0;34m\u001b[0m\u001b[0m\n\u001b[1;32m     71\u001b[0m     \u001b[0mDRIVER\u001b[0m\u001b[0;34m.\u001b[0m\u001b[0mget\u001b[0m\u001b[0;34m(\u001b[0m\u001b[0;34m\"https://www.fundsexplorer.com.br\"\u001b[0m\u001b[0;34m)\u001b[0m\u001b[0;34m\u001b[0m\u001b[0;34m\u001b[0m\u001b[0m\n\u001b[0;32m---> 72\u001b[0;31m     \u001b[0msleep\u001b[0m\u001b[0;34m(\u001b[0m\u001b[0;36m5\u001b[0m\u001b[0;34m)\u001b[0m\u001b[0;34m\u001b[0m\u001b[0;34m\u001b[0m\u001b[0m\n\u001b[0m\u001b[1;32m     73\u001b[0m     \u001b[0mDRIVER\u001b[0m\u001b[0;34m.\u001b[0m\u001b[0mfind_element_by_xpath\u001b[0m\u001b[0;34m(\u001b[0m\u001b[0;34m\"//*[@id='btn-signin']\"\u001b[0m\u001b[0;34m)\u001b[0m\u001b[0;34m.\u001b[0m\u001b[0msend_keys\u001b[0m\u001b[0;34m(\u001b[0m\u001b[0mKeys\u001b[0m\u001b[0;34m.\u001b[0m\u001b[0mENTER\u001b[0m\u001b[0;34m)\u001b[0m\u001b[0;34m\u001b[0m\u001b[0;34m\u001b[0m\u001b[0m\n\u001b[1;32m     74\u001b[0m \u001b[0;34m\u001b[0m\u001b[0m\n",
      "\u001b[0;31mKeyboardInterrupt\u001b[0m: "
     ]
    }
   ],
   "source": [
    "start_date=datetime.now()\n",
    "\n",
    "SCOPE = ['https://spreadsheets.google.com/feeds']\n",
    "\n",
    "PATH = '/home/iazzari/repositorios/scripts/scripts_investimento/chromedriver'\n",
    "\n",
    "DRIVER = webdriver.Chrome(PATH)\n",
    "\n",
    "USERNAME = \"<login>\"\n",
    "\n",
    "PASSWORD = \"<password>\"\n",
    "\n",
    "enter_in_website()\n",
    "sleep(5)\n",
    "\n",
    "df_final = pd.DataFrame()\n",
    "\n",
    "lista_de_estudos = [['tipo_de_fundo', 'https://www.fundsexplorer.com.br/estudos/1nToUW3V8WmRkpFNqmGXuUgh']\n",
    "                    ,['inadimplencia', 'https://www.fundsexplorer.com.br/estudos/wYZjo9KP4umD3ypUtMUJbH2C']\n",
    "                    ,['abl', 'https://www.fundsexplorer.com.br/estudos/ACoGgWk2LqjDRgxWAEFBttxV']\n",
    "                    ,['patrimonio_liquido', 'https://www.fundsexplorer.com.br/estudos/vKQiRSdeHSTMYyaG9qC2VcFc']\n",
    "                    ,['dy_acumulado_12_m', 'https://www.fundsexplorer.com.br/estudos/eYRZiNk5YMKnVoE2hJV83mtB']\n",
    "                    ,['valor_patrimonial', 'https://www.fundsexplorer.com.br/estudos/rzW9sqTR3kc7mGdw1myWtC95']\n",
    "                    ,['p/vpa', 'https://www.fundsexplorer.com.br/estudos/ue21pWj7TgoWwoF1QjDhbC4P']\n",
    "                    ,['vacancia_fisica', 'https://www.fundsexplorer.com.br/estudos/b3L55U5ZXRNk53PHyrBWFfbe']\n",
    "                    ,['valor_mercado',  'https://www.fundsexplorer.com.br/estudos/U8MK4AuhCmbFqJEwcZDHvxCT']\n",
    "                    ,['liquidez_diaria', 'https://www.fundsexplorer.com.br/estudos/v6pvPMsCFfHtvCuMkSGctQ83']\n",
    "                    ,['vacancia_financeira', 'https://www.fundsexplorer.com.br/estudos/wiDJWwom8SebGt4TV7Q1zWGB']\n",
    "                    ,['segmento', 'https://www.fundsexplorer.com.br/estudos/oeM4HRmkVJCGdaxxZBjUKuy8']\n",
    "                    ,['administrador', 'https://www.fundsexplorer.com.br/estudos/BYgvbVB9iXde16DwZFQxKEY5']\n",
    "                    ,['quantidade_imoveis', 'https://www.fundsexplorer.com.br/estudos/gCVLwh4KXUoRgNoGPdjsY3Kw']\n",
    "                    ,['nome', 'https://www.fundsexplorer.com.br/estudos/XrAXUJSEPWBDrK6sPgk5M21o']\n",
    "                    ,['publico_alvo', 'https://www.fundsexplorer.com.br/estudos/xjNztby8Bn9dxfYjjrkD8rqi']\n",
    "                    ,['dy_medio_12_m', 'https://www.fundsexplorer.com.br/estudos/aC41vdqRmXso4AKC3zFhQ9RD']\n",
    "                   ]\n",
    "\n",
    "df_final = get_df_values(lista_de_estudos[0], df_final)\n",
    "\n",
    "\n",
    "for tupla in lista_de_estudos[1:]:\n",
    "    df_final = get_df_values(tupla, df_final)\n",
    "\n",
    "df_final.fillna('', inplace=True)\n",
    "    \n",
    "df_final['ABL'] = df_final['ABL'].map(lambda x: x.replace(' m²', '').replace('m²', ''))\n",
    "\n",
    "data = datetime.now().date().isoformat()\n",
    "data = datetime.strptime(data, '%Y-%m-%d').strftime('%d-%m-%Y')\n",
    "\n",
    "df_final['data_ultima_modificacao'] = data\n",
    "\n",
    "sheet = get_sheet_credentials('new_API')\n",
    "\n",
    "clearSpreadsheet(sheet, 300, 26)\n",
    "\n",
    "insertSpreadsheet(sheet, df_final)\n",
    "\n",
    "end_date=datetime.now()\n",
    "\n",
    "print('tempo em segundos: ' + str((end_date - start_date).total_seconds()))"
   ]
  },
  {
   "cell_type": "code",
   "execution_count": 2,
   "metadata": {
    "collapsed": true
   },
   "outputs": [
    {
     "ename": "SyntaxError",
     "evalue": "invalid syntax (<ipython-input-2-e3a177716d6a>, line 1)",
     "output_type": "error",
     "traceback": [
      "\u001b[0;36m  File \u001b[0;32m\"<ipython-input-2-e3a177716d6a>\"\u001b[0;36m, line \u001b[0;32m1\u001b[0m\n\u001b[0;31m    the slow velocity is because of the velocity of website\u001b[0m\n\u001b[0m           ^\u001b[0m\n\u001b[0;31mSyntaxError\u001b[0m\u001b[0;31m:\u001b[0m invalid syntax\n"
     ]
    }
   ],
   "source": [
    "the slow velocity is because of the velocity of website"
   ]
  },
  {
   "cell_type": "code",
   "execution_count": null,
   "metadata": {},
   "outputs": [],
   "source": [
    "I load the data in spreadsheet and use a vlookup to organize the informations"
   ]
  },
  {
   "cell_type": "code",
   "execution_count": null,
   "metadata": {},
   "outputs": [],
   "source": [
    "the velocity of loading is because I use a webscrapping in google spreadsheet, because google finance is down\n",
    "\n",
    "THANK YOU"
   ]
  }
 ],
 "metadata": {
  "kernelspec": {
   "display_name": "Python 3",
   "language": "python",
   "name": "python3"
  },
  "language_info": {
   "codemirror_mode": {
    "name": "ipython",
    "version": 3
   },
   "file_extension": ".py",
   "mimetype": "text/x-python",
   "name": "python",
   "nbconvert_exporter": "python",
   "pygments_lexer": "ipython3",
   "version": "3.7.7"
  }
 },
 "nbformat": 4,
 "nbformat_minor": 2
}
